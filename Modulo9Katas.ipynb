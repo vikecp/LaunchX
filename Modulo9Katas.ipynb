{
 "cells": [
  {
   "cell_type": "markdown",
   "metadata": {},
   "source": [
    "## Ejercicio: Uso de funciones en Python"
   ]
  },
  {
   "cell_type": "code",
   "execution_count": 41,
   "metadata": {},
   "outputs": [
    {
     "name": "stdout",
     "output_type": "stream",
     "text": [
      " Reporte:\n",
      "    promedio total: 25.0 %\n",
      "    Tanque 1: 20 %\n",
      "    Tanque 2: 30 %\n",
      "    Tanque 3: 25 %\n",
      "    \n"
     ]
    }
   ],
   "source": [
    "# Ejercicio 1: Trabajar con argumentos en funciones\n",
    "# Comienza por crear una función que necesite tres lecturas de combustible y devuelva un informe:\n",
    "a = int(input(\"Primer valor: \"))\n",
    "b = int(input(\"Primer valor: \"))\n",
    "c = int(input(\"Primer valor: \"))\n",
    "\n",
    "def informe_combustible(a, b, c):\n",
    "    prom = (a + b + c) / 3\n",
    "    reporte = f\"\"\" Reporte:\n",
    "    promedio total: {prom} %\n",
    "    Tanque 1: {a} %\n",
    "    Tanque 2: {b} %\n",
    "    Tanque 3: {c} %\n",
    "    \"\"\"\n",
    "    a = print(reporte)\n",
    "    return a\n",
    "informe_combustible(a, b, c)"
   ]
  },
  {
   "cell_type": "code",
   "execution_count": 53,
   "metadata": {},
   "outputs": [],
   "source": [
    "def promedio(valores):\n",
    "    suma = sum(valores)\n",
    "    n = len(valores)\n",
    "    prom = suma / n\n",
    "    return prom\n",
    "\n"
   ]
  },
  {
   "cell_type": "code",
   "execution_count": 54,
   "metadata": {},
   "outputs": [
    {
     "name": "stdout",
     "output_type": "stream",
     "text": [
      " Reporte:\n",
      "    promedio total: 10.0 %\n",
      "    Tanque 1: 10 %\n",
      "    Tanque 2: 10 %\n",
      "    Tanque 3: 10 %\n",
      "    \n"
     ]
    }
   ],
   "source": [
    "# actualizada la funcion\n",
    "a = int(input(\"Primer valor: \"))\n",
    "b = int(input(\"Primer valor: \"))\n",
    "c = int(input(\"Primer valor: \"))\n",
    "\n",
    "def informe_combustible(a, b, c):\n",
    "    reporte = f\"\"\" Reporte:\n",
    "    promedio total: {promedio([a,b,c])} %\n",
    "    Tanque 1: {a} %\n",
    "    Tanque 2: {b} %\n",
    "    Tanque 3: {c} %\n",
    "    \"\"\"\n",
    "    a = print(reporte)\n",
    "    return a\n",
    "informe_combustible(a, b, c)"
   ]
  },
  {
   "cell_type": "markdown",
   "metadata": {},
   "source": [
    "## Ejercicio 2: Trabajo con argumentos de palabra clave"
   ]
  },
  {
   "cell_type": "code",
   "execution_count": 55,
   "metadata": {},
   "outputs": [
    {
     "name": "stdout",
     "output_type": "stream",
     "text": [
      "\n",
      "    Mission to Moon\n",
      "    Total travel time: 74 minutes\n",
      "    Total fuel left: 500000\n",
      "    main tank --> 300000 gallons left\n",
      "external tank --> 200000 gallons left\n",
      "\n"
     ]
    }
   ],
   "source": [
    "def mission_report(destination, *minutes, **fuel_reservoirs):\n",
    "    main_report = f\"\"\"\n",
    "    Mission to {destination}\n",
    "    Total travel time: {sum(minutes)} minutes\n",
    "    Total fuel left: {sum(fuel_reservoirs.values())}\n",
    "    \"\"\"\n",
    "    for tank_name, gallons in fuel_reservoirs.items():\n",
    "        main_report += f\"{tank_name} tank --> {gallons} gallons left\\n\"\n",
    "    return main_report\n",
    "\n",
    "print(mission_report(\"Moon\", 8, 11, 55, main=300000, external=200000))"
   ]
  },
  {
   "cell_type": "markdown",
   "metadata": {},
   "source": [
    "### Ejemplos"
   ]
  },
  {
   "cell_type": "code",
   "execution_count": 56,
   "metadata": {},
   "outputs": [
    {
     "data": {
      "text/plain": [
       "'238,855'"
      ]
     },
     "execution_count": 56,
     "metadata": {},
     "output_type": "execute_result"
    }
   ],
   "source": [
    "# funciones con argumentos\n",
    "def distance_from_earth(destination):\n",
    "    if destination == 'Moon':\n",
    "        return '238,855'\n",
    "    else:\n",
    "        return 'Unable to compute to that destination'\n",
    "    \n",
    "\n",
    "distance_from_earth(\"Moon\")\n",
    "\n",
    "\n"
   ]
  },
  {
   "cell_type": "code",
   "execution_count": 57,
   "metadata": {},
   "outputs": [
    {
     "data": {
      "text/plain": [
       "133"
      ]
     },
     "execution_count": 57,
     "metadata": {},
     "output_type": "execute_result"
    }
   ],
   "source": [
    "def days_to_complete(distance, speed):\n",
    "    hours = distance/speed\n",
    "    return hours/24\n",
    "\n",
    "#days_to_complete(238855, 75)\n",
    "\n",
    "total_days = days_to_complete(238855, 75)\n",
    "round(total_days)\n",
    "round(days_to_complete(238855, 75))"
   ]
  },
  {
   "cell_type": "code",
   "execution_count": 58,
   "metadata": {},
   "outputs": [
    {
     "data": {
      "text/plain": [
       "'Arrival: Friday 17:08'"
      ]
     },
     "execution_count": 58,
     "metadata": {},
     "output_type": "execute_result"
    }
   ],
   "source": [
    "from datetime import timedelta, datetime\n",
    "\n",
    "def arrival_time(hours=51):\n",
    "    now = datetime.now()\n",
    "    arrival = now + timedelta(hours=hours)\n",
    "    return arrival.strftime('Arrival: %A %H:%M')\n",
    "arrival_time()"
   ]
  },
  {
   "cell_type": "code",
   "execution_count": 59,
   "metadata": {},
   "outputs": [
    {
     "name": "stdout",
     "output_type": "stream",
     "text": [
      "('hola',)\n"
     ]
    }
   ],
   "source": [
    "# La función siguiente imprime los argumentos recibidos:\n",
    "def variable_length(*args):\n",
    "    print(args)\n",
    "    \n",
    "variable_length(\"hola\")"
   ]
  },
  {
   "cell_type": "code",
   "execution_count": 60,
   "metadata": {},
   "outputs": [
    {
     "data": {
      "text/plain": [
       "'Total time to launch is 1.1 hours'"
      ]
     },
     "execution_count": 60,
     "metadata": {},
     "output_type": "execute_result"
    }
   ],
   "source": [
    "def sequence_time(*args):\n",
    "    total_minutes = sum(args)\n",
    "    if total_minutes < 60:\n",
    "        return f'Total time to launch is {total_minutes} minutes'\n",
    "    else:\n",
    "        return f'Total time to launch is {total_minutes/60} hours'\n",
    "    \n",
    "sequence_time(4, 14, 18)\n",
    "sequence_time(4, 14, 48)"
   ]
  },
  {
   "cell_type": "code",
   "execution_count": 61,
   "metadata": {},
   "outputs": [
    {
     "name": "stdout",
     "output_type": "stream",
     "text": [
      "{'tanks': 1, 'day': 'Wednesday', 'pilots': 3}\n"
     ]
    }
   ],
   "source": [
    "# Argumentos de palabra clave variable\n",
    "def variable_length(**kwargs):\n",
    "    print(kwargs)\n",
    "    \n",
    "variable_length(tanks=1, day='Wednesday', pilots=3)\n"
   ]
  },
  {
   "cell_type": "code",
   "execution_count": 62,
   "metadata": {},
   "outputs": [
    {
     "name": "stdout",
     "output_type": "stream",
     "text": [
      "3 astronauts assigned for this mission:\n",
      "captain: Neil Armstrong\n",
      "pilot: Buzz Aldrin\n",
      "command_pilot: Michael Collins\n"
     ]
    }
   ],
   "source": [
    "def crew_members(**kwargs):\n",
    "    print(f'{len(kwargs)} astronauts assigned for this mission:')\n",
    "    for title, name in kwargs.items():\n",
    "        print(f'{title}: {name}')\n",
    "        \n",
    "crew_members(captain='Neil Armstrong', pilot='Buzz Aldrin', command_pilot='Michael Collins')"
   ]
  }
 ],
 "metadata": {
  "interpreter": {
   "hash": "e09659fe66188eb4f2237e71b8fe91c99e89b9a5eae4932e1ebeaecfec7c6c09"
  },
  "kernelspec": {
   "display_name": "Python 3.8.2 32-bit",
   "language": "python",
   "name": "python3"
  },
  "language_info": {
   "codemirror_mode": {
    "name": "ipython",
    "version": 3
   },
   "file_extension": ".py",
   "mimetype": "text/x-python",
   "name": "python",
   "nbconvert_exporter": "python",
   "pygments_lexer": "ipython3",
   "version": "3.8.2"
  },
  "orig_nbformat": 4
 },
 "nbformat": 4,
 "nbformat_minor": 2
}
