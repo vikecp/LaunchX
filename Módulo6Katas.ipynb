{
 "cells": [
  {
   "cell_type": "markdown",
   "metadata": {},
   "source": [
    "# LISTAS"
   ]
  },
  {
   "cell_type": "code",
   "execution_count": 35,
   "metadata": {},
   "outputs": [
    {
     "name": "stdout",
     "output_type": "stream",
     "text": [
      "Hay  7 planetas\n"
     ]
    }
   ],
   "source": [
    "# Creamos la lista planets y la mostramos\n",
    "planets = [\"Mercurio\", \"Venus\", \"Tierra\", \"Marte\", \"Júpiter\", \"Saturno\", \"Urano\"]\n",
    "num = len(planets)\n",
    "print(\"Hay \" , num, \"planetas\")"
   ]
  },
  {
   "cell_type": "code",
   "execution_count": 36,
   "metadata": {},
   "outputs": [
    {
     "name": "stdout",
     "output_type": "stream",
     "text": [
      "Actualmente hay  8 planetas\n",
      "Plutón es el ultimo planeta\n"
     ]
    }
   ],
   "source": [
    "planets.append(\"Plutón\")\n",
    "print(\"Actualmente hay \", len(planets), \"planetas\")\n",
    "print(planets[-1], \"es el ultimo planeta\")"
   ]
  },
  {
   "cell_type": "markdown",
   "metadata": {},
   "source": [
    "## Ejercicio 2: Trabajando con datos de una lista"
   ]
  },
  {
   "cell_type": "code",
   "execution_count": 21,
   "metadata": {},
   "outputs": [
    {
     "name": "stdout",
     "output_type": "stream",
     "text": [
      "Aqui estan los planetas mas cercano al sol antes que  Saturn\n",
      "['Mercury', 'Venus', 'Earth', 'Mars', 'Jupiter']\n"
     ]
    }
   ],
   "source": [
    "# Lista de planetas\n",
    "planets = ['Mercury', 'Venus', 'Earth', 'Mars', 'Jupiter', 'Saturn', 'Neptune']\n",
    "entrada = input(\"Ingresa un planeta iniciando con letra mayuscula: \")\n",
    "\n",
    "# buscar en que parte esta el planeta \n",
    "buscar = planets.index(entrada)\n",
    "\n",
    "# Mostrar planetas más cercanos al sol que el que el usuario ingresó\n",
    "if buscar == 0:\n",
    "    print(planets[0], \"es el planeta mas cercano al sol\")\n",
    "elif buscar > 0:\n",
    "    print('Aqui estan los planetas mas cercano al sol antes que ', entrada)\n",
    "    print(planets[0:buscar])\n"
   ]
  },
  {
   "cell_type": "markdown",
   "metadata": {},
   "source": [
    "- Los planetas mas alejados la sol"
   ]
  },
  {
   "cell_type": "code",
   "execution_count": 22,
   "metadata": {},
   "outputs": [
    {
     "name": "stdout",
     "output_type": "stream",
     "text": [
      "Los planetas más lejanos al sol que Saturn\n",
      "['Neptune']\n"
     ]
    }
   ],
   "source": [
    "print('Los planetas más lejanos al sol que ' + entrada)\n",
    "print(planets[buscar + 1:])"
   ]
  }
 ],
 "metadata": {
  "interpreter": {
   "hash": "e09659fe66188eb4f2237e71b8fe91c99e89b9a5eae4932e1ebeaecfec7c6c09"
  },
  "kernelspec": {
   "display_name": "Python 3.8.2 32-bit",
   "language": "python",
   "name": "python3"
  },
  "language_info": {
   "codemirror_mode": {
    "name": "ipython",
    "version": 3
   },
   "file_extension": ".py",
   "mimetype": "text/x-python",
   "name": "python",
   "nbconvert_exporter": "python",
   "pygments_lexer": "ipython3",
   "version": "3.8.2"
  },
  "orig_nbformat": 4
 },
 "nbformat": 4,
 "nbformat_minor": 2
}
