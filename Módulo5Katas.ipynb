{
 "cells": [
  {
   "cell_type": "markdown",
   "metadata": {},
   "source": [
    "## Ejercicio1 - Utilizar operadores aritméticos"
   ]
  },
  {
   "cell_type": "code",
   "execution_count": 6,
   "metadata": {},
   "outputs": [
    {
     "name": "stdout",
     "output_type": "stream",
     "text": [
      "628949330\n",
      "390577533.93\n"
     ]
    }
   ],
   "source": [
    "# D = distancia\n",
    "D1 =  int(input())\n",
    "D2 = int(input())\n",
    "# calcular distancia\n",
    "Dist_enKm = D2 - D1\n",
    "print(Dist_enKm)\n",
    "# millas\n",
    "Dist_enMilla = Dist_enKm * 0.621\n",
    "print(Dist_enMilla)"
   ]
  },
  {
   "cell_type": "markdown",
   "metadata": {},
   "source": [
    "## Ejercicio 2: convierte cadenas en números y usa valores absolutos"
   ]
  },
  {
   "cell_type": "code",
   "execution_count": 9,
   "metadata": {},
   "outputs": [
    {
     "name": "stdout",
     "output_type": "stream",
     "text": [
      "10079878\n",
      "6259604.238\n"
     ]
    }
   ],
   "source": [
    "D1 =  int(input(\"¿Cual es la distancia del 1er planeta: ?\"))\n",
    "D2 = int(input(\"¿Cual es la distancia del 2do planeta: ?\"))\n",
    "\n",
    "distancia_km = D2 - D1\n",
    "# km\n",
    "print(abs(distancia_km))\n",
    "\n",
    "#millas\n",
    "print(distancia_km * 0.621)"
   ]
  }
 ],
 "metadata": {
  "interpreter": {
   "hash": "e09659fe66188eb4f2237e71b8fe91c99e89b9a5eae4932e1ebeaecfec7c6c09"
  },
  "kernelspec": {
   "display_name": "Python 3.8.2 32-bit",
   "language": "python",
   "name": "python3"
  },
  "language_info": {
   "codemirror_mode": {
    "name": "ipython",
    "version": 3
   },
   "file_extension": ".py",
   "mimetype": "text/x-python",
   "name": "python",
   "nbconvert_exporter": "python",
   "pygments_lexer": "ipython3",
   "version": "3.8.2"
  },
  "orig_nbformat": 4
 },
 "nbformat": 4,
 "nbformat_minor": 2
}
